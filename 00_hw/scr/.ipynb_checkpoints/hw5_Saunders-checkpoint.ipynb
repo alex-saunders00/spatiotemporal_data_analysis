{
 "cells": [
  {
   "cell_type": "markdown",
   "id": "5326cf45-9bdd-4a0e-8dc5-5591eb107532",
   "metadata": {
    "tags": []
   },
   "source": [
    "# GEOG696C Spatiotemporal Data Analysis\n",
    "## Homework #5\n",
    "Alex Saunders | Last updated: 30 October 2023"
   ]
  },
  {
   "cell_type": "code",
   "execution_count": 1,
   "id": "cae1429e-ed46-42c1-97bb-2c8d185a5abe",
   "metadata": {
    "tags": []
   },
   "outputs": [],
   "source": [
    "from pathlib import Path\n",
    "import os\n",
    "import sys\n",
    "import pandas as pd\n",
    "import numpy as np\n",
    "import matplotlib as mpl\n",
    "from matplotlib import pyplot as plt, colors\n",
    "from matplotlib.collections import LineCollection\n",
    "from mpl_toolkits.axes_grid1 import make_axes_locatable\n",
    "import matplotlib.patheffects as pe\n",
    "from datetime import datetime\n",
    "import calendar\n",
    "import scipy\n",
    "import xarray\n",
    "import cartopy\n",
    "import cartopy.crs as ccrs \n",
    "import cartopy.feature as cfeature"
   ]
  },
  {
   "cell_type": "code",
   "execution_count": 2,
   "id": "828a8a40-33fc-4da6-8dad-abf47e5f41b3",
   "metadata": {
    "tags": []
   },
   "outputs": [],
   "source": [
    "# Set the root path\n",
    "rootPath = Path('C:/Users/alexa/Documents/GitHub/spatiotemporal_data_analysis/00_hw')\n",
    "dataPath = Path ('C:/Users/alexa/Documents/01_personal/07_phd/05_study/02_courses/2023/1/GEOG696/data')"
   ]
  },
  {
   "cell_type": "markdown",
   "id": "5844ad9e-df4c-462f-96c4-3b51dd5bdaa9",
   "metadata": {},
   "source": [
    "## 1. Perform a field correlation between winter (DJF) SOI time series and the global DJF 700mb heights and calculate associated p-values"
   ]
  },
  {
   "cell_type": "code",
   "execution_count": null,
   "id": "d1d62839-0db4-4438-bb46-5e939b809c4f",
   "metadata": {},
   "outputs": [],
   "source": []
  }
 ],
 "metadata": {
  "kernelspec": {
   "display_name": "Python 3 (ipykernel)",
   "language": "python",
   "name": "python3"
  },
  "language_info": {
   "codemirror_mode": {
    "name": "ipython",
    "version": 3
   },
   "file_extension": ".py",
   "mimetype": "text/x-python",
   "name": "python",
   "nbconvert_exporter": "python",
   "pygments_lexer": "ipython3",
   "version": "3.8.16"
  }
 },
 "nbformat": 4,
 "nbformat_minor": 5
}
