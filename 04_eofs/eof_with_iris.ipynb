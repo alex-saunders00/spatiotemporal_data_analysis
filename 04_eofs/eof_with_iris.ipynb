{
 "cells": [
  {
   "cell_type": "markdown",
   "metadata": {},
   "source": [
    "# Eigendecomposition of the Iris dataset"
   ]
  },
  {
   "cell_type": "markdown",
   "metadata": {},
   "source": [
    "In EOF analysis, we seek a solution to the following equation.  For a matrix **A** we seek a set of vectors $\\mathbf{V}$ which makes the following equation true:\n",
    "\n",
    "$A\\mathbf{V} = \\Lambda \\mathbf{V}$\n",
    "\n",
    "$\\mathbf{V}$ are called the _**eigenvectors**_ and $\\Lambda$ contains values ($\\lambda$) along the diagonal called _**eigenvalues**_.  The equation tells us that we may be able to find a new set of (eigen)vectors for which the values in our data matrix **A** can be expressed simply as a magnitude along these new eigenvectors.  As we discussed in class, if **A** is a square symmetric matrix _m x m_ like the covariance matrix, the _m_ eigenvalues are all real and positive and the eigenvectors that are paired to these eigenvalues are orthogonal.  It is these pairs of _m_ eigenvalues and their respective eigenvectors that we are after in EOF analysis of our datasets.\n",
    "\n",
    "So what's so cool about eigenvectors and eigenvalues?  First, eigenvalues give us some indication of how the common patterns of variance are re-distributed into the new eigenvectors.  If we call each eigenvector and eigenvalue pair a **mode** then for each mode the eigenvalue can tell you how much of the total variance in the original data is captured by the new eigenvector associated with it. The eigenvectors are also *orthogonal* to one another, which means that they are independent from one another (something that is useful for regression modeling, for instance).  Finally, when the eigenvectors are projected (multiplied) onto the original centered data, they produce new a data series the size of the original data series but that are now uncorrelated with one another and related to the pattern present in the eigenvector.  \n",
    "\n",
    "However, before we get to more complex examples using spatiotemporal data and how to interpret eigenvalues and eigenvectors in those contexts, let's take a look at a simple example with the Iris dataset you used in Homework #1:\n"
   ]
  },
  {
   "cell_type": "markdown",
   "metadata": {},
   "source": [
    "This short notebook will walk you through the basics of the simple Iris 2-dimensional empirical orthogonal function calculation. \n",
    "\n",
    "Let's first import our packages:"
   ]
  },
  {
   "cell_type": "code",
   "execution_count": 2,
   "metadata": {},
   "outputs": [],
   "source": [
    "import numpy as np\n",
    "import pandas as pd\n",
    "import scipy as sp\n",
    "import xarray as xr\n",
    "import matplotlib as mpl\n",
    "import matplotlib.pyplot as plt\n",
    "\n",
    "# you can omit the line below if you'd like, but I really don't like the default fonts in Python, so I switch to Helvetica\n",
    "plt.rcParams['font.family'] = 'Helvetica'"
   ]
  },
  {
   "cell_type": "markdown",
   "metadata": {},
   "source": [
    "We'll read in the Iris data (same data you used on Homework #1) and take a look at the resulting DataFrame::"
   ]
  },
  {
   "cell_type": "code",
   "execution_count": 3,
   "metadata": {},
   "outputs": [
    {
     "data": {
      "text/html": [
       "<div>\n",
       "<style scoped>\n",
       "    .dataframe tbody tr th:only-of-type {\n",
       "        vertical-align: middle;\n",
       "    }\n",
       "\n",
       "    .dataframe tbody tr th {\n",
       "        vertical-align: top;\n",
       "    }\n",
       "\n",
       "    .dataframe thead th {\n",
       "        text-align: right;\n",
       "    }\n",
       "</style>\n",
       "<table border=\"1\" class=\"dataframe\">\n",
       "  <thead>\n",
       "    <tr style=\"text-align: right;\">\n",
       "      <th></th>\n",
       "      <th>sepal length (cm)</th>\n",
       "      <th>sepal width (cm)</th>\n",
       "      <th>petal length (cm)</th>\n",
       "      <th>petal width (cm)</th>\n",
       "      <th>species(id)</th>\n",
       "    </tr>\n",
       "  </thead>\n",
       "  <tbody>\n",
       "    <tr>\n",
       "      <th>0</th>\n",
       "      <td>5.1</td>\n",
       "      <td>3.5</td>\n",
       "      <td>1.4</td>\n",
       "      <td>0.2</td>\n",
       "      <td>Iris-setosa</td>\n",
       "    </tr>\n",
       "    <tr>\n",
       "      <th>1</th>\n",
       "      <td>4.9</td>\n",
       "      <td>3.0</td>\n",
       "      <td>1.4</td>\n",
       "      <td>0.2</td>\n",
       "      <td>Iris-setosa</td>\n",
       "    </tr>\n",
       "    <tr>\n",
       "      <th>2</th>\n",
       "      <td>4.7</td>\n",
       "      <td>3.2</td>\n",
       "      <td>1.3</td>\n",
       "      <td>0.2</td>\n",
       "      <td>Iris-setosa</td>\n",
       "    </tr>\n",
       "    <tr>\n",
       "      <th>3</th>\n",
       "      <td>4.6</td>\n",
       "      <td>3.1</td>\n",
       "      <td>1.5</td>\n",
       "      <td>0.2</td>\n",
       "      <td>Iris-setosa</td>\n",
       "    </tr>\n",
       "    <tr>\n",
       "      <th>4</th>\n",
       "      <td>5.0</td>\n",
       "      <td>3.6</td>\n",
       "      <td>1.4</td>\n",
       "      <td>0.2</td>\n",
       "      <td>Iris-setosa</td>\n",
       "    </tr>\n",
       "    <tr>\n",
       "      <th>...</th>\n",
       "      <td>...</td>\n",
       "      <td>...</td>\n",
       "      <td>...</td>\n",
       "      <td>...</td>\n",
       "      <td>...</td>\n",
       "    </tr>\n",
       "    <tr>\n",
       "      <th>145</th>\n",
       "      <td>6.7</td>\n",
       "      <td>3.0</td>\n",
       "      <td>5.2</td>\n",
       "      <td>2.3</td>\n",
       "      <td>Iris-virginica</td>\n",
       "    </tr>\n",
       "    <tr>\n",
       "      <th>146</th>\n",
       "      <td>6.3</td>\n",
       "      <td>2.5</td>\n",
       "      <td>5.0</td>\n",
       "      <td>1.9</td>\n",
       "      <td>Iris-virginica</td>\n",
       "    </tr>\n",
       "    <tr>\n",
       "      <th>147</th>\n",
       "      <td>6.5</td>\n",
       "      <td>3.0</td>\n",
       "      <td>5.2</td>\n",
       "      <td>2.0</td>\n",
       "      <td>Iris-virginica</td>\n",
       "    </tr>\n",
       "    <tr>\n",
       "      <th>148</th>\n",
       "      <td>6.2</td>\n",
       "      <td>3.4</td>\n",
       "      <td>5.4</td>\n",
       "      <td>2.3</td>\n",
       "      <td>Iris-virginica</td>\n",
       "    </tr>\n",
       "    <tr>\n",
       "      <th>149</th>\n",
       "      <td>5.9</td>\n",
       "      <td>3.0</td>\n",
       "      <td>5.1</td>\n",
       "      <td>1.8</td>\n",
       "      <td>Iris-virginica</td>\n",
       "    </tr>\n",
       "  </tbody>\n",
       "</table>\n",
       "<p>150 rows × 5 columns</p>\n",
       "</div>"
      ],
      "text/plain": [
       "     sepal length (cm)   sepal width (cm)   petal length (cm)  \\\n",
       "0                  5.1                3.5                 1.4   \n",
       "1                  4.9                3.0                 1.4   \n",
       "2                  4.7                3.2                 1.3   \n",
       "3                  4.6                3.1                 1.5   \n",
       "4                  5.0                3.6                 1.4   \n",
       "..                 ...                ...                 ...   \n",
       "145                6.7                3.0                 5.2   \n",
       "146                6.3                2.5                 5.0   \n",
       "147                6.5                3.0                 5.2   \n",
       "148                6.2                3.4                 5.4   \n",
       "149                5.9                3.0                 5.1   \n",
       "\n",
       "      petal width (cm)     species(id)  \n",
       "0                  0.2     Iris-setosa  \n",
       "1                  0.2     Iris-setosa  \n",
       "2                  0.2     Iris-setosa  \n",
       "3                  0.2     Iris-setosa  \n",
       "4                  0.2     Iris-setosa  \n",
       "..                 ...             ...  \n",
       "145                2.3  Iris-virginica  \n",
       "146                1.9  Iris-virginica  \n",
       "147                2.0  Iris-virginica  \n",
       "148                2.3  Iris-virginica  \n",
       "149                1.8  Iris-virginica  \n",
       "\n",
       "[150 rows x 5 columns]"
      ]
     },
     "execution_count": 3,
     "metadata": {},
     "output_type": "execute_result"
    }
   ],
   "source": [
    "df = pd.read_csv('iris.data') # use Pandas to read in the csv data\n",
    "df #let's look at our Pandas dataframe\n"
   ]
  },
  {
   "cell_type": "markdown",
   "metadata": {},
   "source": [
    "\n",
    "In the code block below, we'll create a new DataFrame with only the sepal length and sepal width from Iris setosa.  For this we'll use Pandas `.loc` with a long chain of specifics.  Note that the species selection (rows) and columns are in the square backets of the `.loc` method - so the row selection uses the `.str.contains` applied to the species id column, and then the column selection is the two sepal related columns, enclosed together in square brackets.  The `.copy()` at the end ensures that sepal going forward will be not affected by any changes to the original df. "
   ]
  },
  {
   "cell_type": "code",
   "execution_count": 4,
   "metadata": {},
   "outputs": [
    {
     "data": {
      "text/html": [
       "<div>\n",
       "<style scoped>\n",
       "    .dataframe tbody tr th:only-of-type {\n",
       "        vertical-align: middle;\n",
       "    }\n",
       "\n",
       "    .dataframe tbody tr th {\n",
       "        vertical-align: top;\n",
       "    }\n",
       "\n",
       "    .dataframe thead th {\n",
       "        text-align: right;\n",
       "    }\n",
       "</style>\n",
       "<table border=\"1\" class=\"dataframe\">\n",
       "  <thead>\n",
       "    <tr style=\"text-align: right;\">\n",
       "      <th></th>\n",
       "      <th>sepal length (cm)</th>\n",
       "      <th>sepal width (cm)</th>\n",
       "    </tr>\n",
       "  </thead>\n",
       "  <tbody>\n",
       "    <tr>\n",
       "      <th>0</th>\n",
       "      <td>5.1</td>\n",
       "      <td>3.5</td>\n",
       "    </tr>\n",
       "    <tr>\n",
       "      <th>1</th>\n",
       "      <td>4.9</td>\n",
       "      <td>3.0</td>\n",
       "    </tr>\n",
       "    <tr>\n",
       "      <th>2</th>\n",
       "      <td>4.7</td>\n",
       "      <td>3.2</td>\n",
       "    </tr>\n",
       "    <tr>\n",
       "      <th>3</th>\n",
       "      <td>4.6</td>\n",
       "      <td>3.1</td>\n",
       "    </tr>\n",
       "    <tr>\n",
       "      <th>4</th>\n",
       "      <td>5.0</td>\n",
       "      <td>3.6</td>\n",
       "    </tr>\n",
       "    <tr>\n",
       "      <th>5</th>\n",
       "      <td>5.4</td>\n",
       "      <td>3.9</td>\n",
       "    </tr>\n",
       "    <tr>\n",
       "      <th>6</th>\n",
       "      <td>4.6</td>\n",
       "      <td>3.4</td>\n",
       "    </tr>\n",
       "    <tr>\n",
       "      <th>7</th>\n",
       "      <td>5.0</td>\n",
       "      <td>3.4</td>\n",
       "    </tr>\n",
       "    <tr>\n",
       "      <th>8</th>\n",
       "      <td>4.4</td>\n",
       "      <td>2.9</td>\n",
       "    </tr>\n",
       "    <tr>\n",
       "      <th>9</th>\n",
       "      <td>4.9</td>\n",
       "      <td>3.1</td>\n",
       "    </tr>\n",
       "    <tr>\n",
       "      <th>10</th>\n",
       "      <td>5.4</td>\n",
       "      <td>3.7</td>\n",
       "    </tr>\n",
       "    <tr>\n",
       "      <th>11</th>\n",
       "      <td>4.8</td>\n",
       "      <td>3.4</td>\n",
       "    </tr>\n",
       "    <tr>\n",
       "      <th>12</th>\n",
       "      <td>4.8</td>\n",
       "      <td>3.0</td>\n",
       "    </tr>\n",
       "    <tr>\n",
       "      <th>13</th>\n",
       "      <td>4.3</td>\n",
       "      <td>3.0</td>\n",
       "    </tr>\n",
       "    <tr>\n",
       "      <th>14</th>\n",
       "      <td>5.8</td>\n",
       "      <td>4.0</td>\n",
       "    </tr>\n",
       "    <tr>\n",
       "      <th>15</th>\n",
       "      <td>5.7</td>\n",
       "      <td>4.4</td>\n",
       "    </tr>\n",
       "    <tr>\n",
       "      <th>16</th>\n",
       "      <td>5.4</td>\n",
       "      <td>3.9</td>\n",
       "    </tr>\n",
       "    <tr>\n",
       "      <th>17</th>\n",
       "      <td>5.1</td>\n",
       "      <td>3.5</td>\n",
       "    </tr>\n",
       "    <tr>\n",
       "      <th>18</th>\n",
       "      <td>5.7</td>\n",
       "      <td>3.8</td>\n",
       "    </tr>\n",
       "    <tr>\n",
       "      <th>19</th>\n",
       "      <td>5.1</td>\n",
       "      <td>3.8</td>\n",
       "    </tr>\n",
       "    <tr>\n",
       "      <th>20</th>\n",
       "      <td>5.4</td>\n",
       "      <td>3.4</td>\n",
       "    </tr>\n",
       "    <tr>\n",
       "      <th>21</th>\n",
       "      <td>5.1</td>\n",
       "      <td>3.7</td>\n",
       "    </tr>\n",
       "    <tr>\n",
       "      <th>22</th>\n",
       "      <td>4.6</td>\n",
       "      <td>3.6</td>\n",
       "    </tr>\n",
       "    <tr>\n",
       "      <th>23</th>\n",
       "      <td>5.1</td>\n",
       "      <td>3.3</td>\n",
       "    </tr>\n",
       "    <tr>\n",
       "      <th>24</th>\n",
       "      <td>4.8</td>\n",
       "      <td>3.4</td>\n",
       "    </tr>\n",
       "    <tr>\n",
       "      <th>25</th>\n",
       "      <td>5.0</td>\n",
       "      <td>3.0</td>\n",
       "    </tr>\n",
       "    <tr>\n",
       "      <th>26</th>\n",
       "      <td>5.0</td>\n",
       "      <td>3.4</td>\n",
       "    </tr>\n",
       "    <tr>\n",
       "      <th>27</th>\n",
       "      <td>5.2</td>\n",
       "      <td>3.5</td>\n",
       "    </tr>\n",
       "    <tr>\n",
       "      <th>28</th>\n",
       "      <td>5.2</td>\n",
       "      <td>3.4</td>\n",
       "    </tr>\n",
       "    <tr>\n",
       "      <th>29</th>\n",
       "      <td>4.7</td>\n",
       "      <td>3.2</td>\n",
       "    </tr>\n",
       "    <tr>\n",
       "      <th>30</th>\n",
       "      <td>4.8</td>\n",
       "      <td>3.1</td>\n",
       "    </tr>\n",
       "    <tr>\n",
       "      <th>31</th>\n",
       "      <td>5.4</td>\n",
       "      <td>3.4</td>\n",
       "    </tr>\n",
       "    <tr>\n",
       "      <th>32</th>\n",
       "      <td>5.2</td>\n",
       "      <td>4.1</td>\n",
       "    </tr>\n",
       "    <tr>\n",
       "      <th>33</th>\n",
       "      <td>5.5</td>\n",
       "      <td>4.2</td>\n",
       "    </tr>\n",
       "    <tr>\n",
       "      <th>34</th>\n",
       "      <td>4.9</td>\n",
       "      <td>3.1</td>\n",
       "    </tr>\n",
       "    <tr>\n",
       "      <th>35</th>\n",
       "      <td>5.0</td>\n",
       "      <td>3.2</td>\n",
       "    </tr>\n",
       "    <tr>\n",
       "      <th>36</th>\n",
       "      <td>5.5</td>\n",
       "      <td>3.5</td>\n",
       "    </tr>\n",
       "    <tr>\n",
       "      <th>37</th>\n",
       "      <td>4.9</td>\n",
       "      <td>3.1</td>\n",
       "    </tr>\n",
       "    <tr>\n",
       "      <th>38</th>\n",
       "      <td>4.4</td>\n",
       "      <td>3.0</td>\n",
       "    </tr>\n",
       "    <tr>\n",
       "      <th>39</th>\n",
       "      <td>5.1</td>\n",
       "      <td>3.4</td>\n",
       "    </tr>\n",
       "    <tr>\n",
       "      <th>40</th>\n",
       "      <td>5.0</td>\n",
       "      <td>3.5</td>\n",
       "    </tr>\n",
       "    <tr>\n",
       "      <th>41</th>\n",
       "      <td>4.5</td>\n",
       "      <td>2.3</td>\n",
       "    </tr>\n",
       "    <tr>\n",
       "      <th>42</th>\n",
       "      <td>4.4</td>\n",
       "      <td>3.2</td>\n",
       "    </tr>\n",
       "    <tr>\n",
       "      <th>43</th>\n",
       "      <td>5.0</td>\n",
       "      <td>3.5</td>\n",
       "    </tr>\n",
       "    <tr>\n",
       "      <th>44</th>\n",
       "      <td>5.1</td>\n",
       "      <td>3.8</td>\n",
       "    </tr>\n",
       "    <tr>\n",
       "      <th>45</th>\n",
       "      <td>4.8</td>\n",
       "      <td>3.0</td>\n",
       "    </tr>\n",
       "    <tr>\n",
       "      <th>46</th>\n",
       "      <td>5.1</td>\n",
       "      <td>3.8</td>\n",
       "    </tr>\n",
       "    <tr>\n",
       "      <th>47</th>\n",
       "      <td>4.6</td>\n",
       "      <td>3.2</td>\n",
       "    </tr>\n",
       "    <tr>\n",
       "      <th>48</th>\n",
       "      <td>5.3</td>\n",
       "      <td>3.7</td>\n",
       "    </tr>\n",
       "    <tr>\n",
       "      <th>49</th>\n",
       "      <td>5.0</td>\n",
       "      <td>3.3</td>\n",
       "    </tr>\n",
       "  </tbody>\n",
       "</table>\n",
       "</div>"
      ],
      "text/plain": [
       "    sepal length (cm)   sepal width (cm)\n",
       "0                 5.1                3.5\n",
       "1                 4.9                3.0\n",
       "2                 4.7                3.2\n",
       "3                 4.6                3.1\n",
       "4                 5.0                3.6\n",
       "5                 5.4                3.9\n",
       "6                 4.6                3.4\n",
       "7                 5.0                3.4\n",
       "8                 4.4                2.9\n",
       "9                 4.9                3.1\n",
       "10                5.4                3.7\n",
       "11                4.8                3.4\n",
       "12                4.8                3.0\n",
       "13                4.3                3.0\n",
       "14                5.8                4.0\n",
       "15                5.7                4.4\n",
       "16                5.4                3.9\n",
       "17                5.1                3.5\n",
       "18                5.7                3.8\n",
       "19                5.1                3.8\n",
       "20                5.4                3.4\n",
       "21                5.1                3.7\n",
       "22                4.6                3.6\n",
       "23                5.1                3.3\n",
       "24                4.8                3.4\n",
       "25                5.0                3.0\n",
       "26                5.0                3.4\n",
       "27                5.2                3.5\n",
       "28                5.2                3.4\n",
       "29                4.7                3.2\n",
       "30                4.8                3.1\n",
       "31                5.4                3.4\n",
       "32                5.2                4.1\n",
       "33                5.5                4.2\n",
       "34                4.9                3.1\n",
       "35                5.0                3.2\n",
       "36                5.5                3.5\n",
       "37                4.9                3.1\n",
       "38                4.4                3.0\n",
       "39                5.1                3.4\n",
       "40                5.0                3.5\n",
       "41                4.5                2.3\n",
       "42                4.4                3.2\n",
       "43                5.0                3.5\n",
       "44                5.1                3.8\n",
       "45                4.8                3.0\n",
       "46                5.1                3.8\n",
       "47                4.6                3.2\n",
       "48                5.3                3.7\n",
       "49                5.0                3.3"
      ]
     },
     "execution_count": 4,
     "metadata": {},
     "output_type": "execute_result"
    }
   ],
   "source": [
    "\n",
    "sepal = df.loc[df[\" species(id)\"].str.contains('Iris-setosa'), [\"sepal length (cm)\",\" sepal width (cm)\"]].copy()\n",
    "sepal # take a look:\n"
   ]
  },
  {
   "cell_type": "markdown",
   "metadata": {},
   "source": [
    "We now have a new Pandas DataFrame with 50 rows and 2 columns. Let's scatter plot the data using Pandas object plotting ability.  To do this we tell Pandas the column name of the x and y values, and we can also pass it some plotting options.  The second line tries to set the aspect of the plot to be equal in both x and y directions:"
   ]
  },
  {
   "cell_type": "code",
   "execution_count": 5,
   "metadata": {},
   "outputs": [
    {
     "data": {
      "image/png": "[encoded data removed]",
      "text/plain": [
       "<Figure size 640x480 with 1 Axes>"
      ]
     },
     "metadata": {},
     "output_type": "display_data"
    }
   ],
   "source": [
    "sx1 = sepal.plot.scatter(x=\"sepal length (cm)\",y=\" sepal width (cm)\",color='Red',title='RAW DATA')\n",
    "sx1.set_aspect('equal', 'box')\n"
   ]
  },
  {
   "cell_type": "markdown",
   "metadata": {},
   "source": [
    "We'll now calculate the covariance of these two measurements.  There are (at least) two ways to do this.  In the first way, we turn our Pandas DataFrame into a simple NumPy array using `.to_numpy()`.  We then remove the mean of the data columns (we'll see why in a moment) and calculate the covariance using Numpy's `np.cov`.  Note that we pass [two additional inputs to `np.cov`](https://numpy.org/doc/stable/reference/generated/numpy.cov.html).  First, `rowvar=False` tells NumPy that our variables are in columns and the observations of those variables are in rows (the default in NumPy is the reverse).  Second, we still need `ddof=1` to get the unbiased covariance. \n",
    "\n",
    "Alternatively, we could get the covariance directly from Pandas, using the [`.cov` method](https://pandas.pydata.org/docs/reference/api/pandas.DataFrame.cov.html). "
   ]
  },
  {
   "cell_type": "code",
   "execution_count": 8,
   "metadata": {},
   "outputs": [
    {
     "name": "stdout",
     "output_type": "stream",
     "text": [
      "[[0.12424898 0.10029796]\n",
      " [0.10029796 0.14517959]]\n"
     ]
    },
    {
     "data": {
      "text/html": [
       "<div>\n",
       "<style scoped>\n",
       "    .dataframe tbody tr th:only-of-type {\n",
       "        vertical-align: middle;\n",
       "    }\n",
       "\n",
       "    .dataframe tbody tr th {\n",
       "        vertical-align: top;\n",
       "    }\n",
       "\n",
       "    .dataframe thead th {\n",
       "        text-align: right;\n",
       "    }\n",
       "</style>\n",
       "<table border=\"1\" class=\"dataframe\">\n",
       "  <thead>\n",
       "    <tr style=\"text-align: right;\">\n",
       "      <th></th>\n",
       "      <th>sepal length (cm)</th>\n",
       "      <th>sepal width (cm)</th>\n",
       "    </tr>\n",
       "  </thead>\n",
       "  <tbody>\n",
       "    <tr>\n",
       "      <th>sepal length (cm)</th>\n",
       "      <td>0.124249</td>\n",
       "      <td>0.100298</td>\n",
       "    </tr>\n",
       "    <tr>\n",
       "      <th>sepal width (cm)</th>\n",
       "      <td>0.100298</td>\n",
       "      <td>0.145180</td>\n",
       "    </tr>\n",
       "  </tbody>\n",
       "</table>\n",
       "</div>"
      ],
      "text/plain": [
       "                   sepal length (cm)   sepal width (cm)\n",
       "sepal length (cm)           0.124249           0.100298\n",
       " sepal width (cm)           0.100298           0.145180"
      ]
     },
     "execution_count": 8,
     "metadata": {},
     "output_type": "execute_result"
    }
   ],
   "source": [
    "# take Pandas dataframe, put into NumPy array, remove mean, calculate covariance\n",
    "sepal_array = sepal.to_numpy()\n",
    "sepal_array = sepal_array - sepal_array.mean(axis=0)\n",
    "\n",
    "# covariance from array \n",
    "Cn = np.cov(sepal_array,rowvar=False,ddof=1)\n",
    "\n",
    "# or keep in datafrom, calculate covariance, then move Covariance to NumPy array\n",
    "Cp = pd.DataFrame(sepal).cov(ddof=1)\n",
    "\n",
    "print(Cn)\n",
    "Cp\n"
   ]
  },
  {
   "cell_type": "markdown",
   "metadata": {},
   "source": [
    "Compare the results from the two methods and convince yourself you understand how the two approaches work to calculate the covariance matrix. "
   ]
  },
  {
   "cell_type": "markdown",
   "metadata": {},
   "source": [
    "Now that we have our covariance matrix, we can calculate the eigenvalues and eigenvectors -- we'll do our first Singular Value Decomposition (svd)!  As usual, there are several ways to do this.  Numpy has `np.linalg.svd` which will calculate the complete SVD of the covariance matrix.  This will work OK for now, since our dataset and covariance matrix are quite small.  Alternatively, SciPy provide `sp.sparse.linalg.svds` where you can specify how many eigenvalue/eigenvector pairs to calculate.  This can be much, much faster for datasets with a large number of variables. \n",
    "\n",
    "Singular value decomposition of a square symmetric matrix allows us to factorize the covariance matrix to the product of matrices containing the eigenvalues and eigenvectors:\n",
    "\n",
    "$\n",
    "\\mathbf{A} = \\mathbf{Q} \\Lambda \\mathbf{Q}^{T}\n",
    "$\n",
    "\n",
    "Where **Q** contains the eigenvectors and $\\Lambda$ is a diagonal matrix containing the eigenvalues, $\\lambda$.  \n",
    "\n",
    "We'll use NumPy here, since our data are a manageable size:"
   ]
  },
  {
   "cell_type": "code",
   "execution_count": 9,
   "metadata": {},
   "outputs": [],
   "source": [
    "# do the SVD\n",
    "U, S, V = np.linalg.svd(Cn) # could use Cp or Cn"
   ]
  },
  {
   "cell_type": "markdown",
   "metadata": {},
   "source": [
    "The output contains U and V with the eigenvectors and S with the eigenvalues.  Let's take a look at S first:"
   ]
  },
  {
   "cell_type": "code",
   "execution_count": 14,
   "metadata": {},
   "outputs": [
    {
     "name": "stdout",
     "output_type": "stream",
     "text": [
      "[[0.12424898 0.10029796]\n",
      " [0.10029796 0.14517959]]\n",
      "[0.23555675 0.03387182]\n"
     ]
    }
   ],
   "source": [
    "# The eigenvalues are in S\n",
    "print(Cn)\n",
    "print(S)\n"
   ]
  },
  {
   "cell_type": "markdown",
   "metadata": {},
   "source": [
    "Unlike other programming languages, `np.linalg.svd` returns S as an array instead of a diagonal matrix, so the total variance in the system is the sum of the elements of S:"
   ]
  },
  {
   "cell_type": "code",
   "execution_count": 15,
   "metadata": {},
   "outputs": [
    {
     "data": {
      "text/plain": [
       "(0.26942857142857146, 0.2694285714285714)"
      ]
     },
     "execution_count": 15,
     "metadata": {},
     "output_type": "execute_result"
    }
   ],
   "source": [
    "total_variance_original = np.sum(np.var(sepal_array,axis=0,ddof=1))\n",
    "total_variance_svd = np.sum(S)\n",
    "total_variance_original, total_variance_svd # same total variance\n"
   ]
  },
  {
   "cell_type": "markdown",
   "metadata": {},
   "source": [
    "Next, let's look at U and V, the matrices we expect to hold the eigenvectors:"
   ]
  },
  {
   "cell_type": "code",
   "execution_count": 16,
   "metadata": {},
   "outputs": [
    {
     "name": "stdout",
     "output_type": "stream",
     "text": [
      "[[-0.66941065 -0.74289258]\n",
      " [-0.74289258  0.66941065]]\n"
     ]
    }
   ],
   "source": [
    "print(U)\n"
   ]
  },
  {
   "cell_type": "markdown",
   "metadata": {},
   "source": [
    "Notice that in this simple case, U == V, but also because this is 2 variable case that U.T == V as well.  My warning to you is that, generally speaking but especially in Python, be sure you know whether the columns or rows of the method or function you are using contain the eigenvectors.  In more complex cases, the answer may different substantially. \n",
    "\n",
    "Let's check if the columns of U are orthongonal.  Remember that we can check for orthogonality from the dot products our two vectors: "
   ]
  },
  {
   "cell_type": "code",
   "execution_count": 17,
   "metadata": {},
   "outputs": [
    {
     "name": "stdout",
     "output_type": "stream",
     "text": [
      "-1.3183939343219683e-16\n"
     ]
    }
   ],
   "source": [
    "print(np.dot(U[:,0],U[:,1]))"
   ]
  },
  {
   "cell_type": "markdown",
   "metadata": {},
   "source": [
    "Orthogonal? The number is 0 within floating point machine precision, so these vectors are orthongonal. "
   ]
  },
  {
   "cell_type": "markdown",
   "metadata": {},
   "source": [
    "Let's plot the original data and then the eigenvectors:"
   ]
  },
  {
   "cell_type": "code",
   "execution_count": 18,
   "metadata": {},
   "outputs": [
    {
     "data": {
      "text/plain": [
       "Text(-0.75, 0.79, '13.0%')"
      ]
     },
     "execution_count": 18,
     "metadata": {},
     "output_type": "execute_result"
    },
    {
     "data": {
      "image/png": "[encoded data removed]",
      "text/plain": [
       "<Figure size 640x480 with 1 Axes>"
      ]
     },
     "metadata": {},
     "output_type": "display_data"
    }
   ],
   "source": [
    "plt.figure()\n",
    "ax = plt.axes()\n",
    "ax.scatter(sepal_array[:,0],sepal_array[:,1],color='black')  # there are the center (zero mean) values\n",
    "ax.set_xlim(-1,1)\n",
    "ax.set_ylim(-1,1)\n",
    "ax.set_xlabel('sepal length anomaly (cm)')\n",
    "ax.set_ylabel('sepal width anomaly (cm)')\n",
    "\n",
    "stretchLine = 1 # for display purposes\n",
    "\n",
    "# the vector described by the first eigenvalue (column 0 of U)\n",
    "lx1 = ax.plot([-U[1,0],U[1,0]],[-U[0,0],U[0,0]],color='red');\n",
    "\n",
    "# the vector described by the first eigenvalue (column 1 of U)\n",
    "lx2 = ax.plot([-U[1,1],U[1,1]], [-U[0,1],U[0,1]],color='blue');\n",
    "ax.set_aspect('equal', 'box')\n",
    "\n",
    "# the explained variance in percentage\n",
    "expvar = np.round((S/np.sum(S)) * 100)\n",
    "\n",
    "# place the explained variance for each new eigenvector on the plot\n",
    "ax.text(0.70,0.75,f'{expvar[0]}%',fontsize=18,color='red')\n",
    "ax.text(-0.75,0.79,f'{expvar[1]}%',fontsize=14,color='blue',horizontalalignment='center')"
   ]
  },
  {
   "cell_type": "markdown",
   "metadata": {},
   "source": [
    "Notice too that each eigenvector is unit length:"
   ]
  },
  {
   "cell_type": "code",
   "execution_count": 19,
   "metadata": {},
   "outputs": [
    {
     "name": "stdout",
     "output_type": "stream",
     "text": [
      "1.0\n",
      "1.0\n"
     ]
    }
   ],
   "source": [
    "print(np.linalg.norm(U[:,0]))\n",
    "print(np.linalg.norm(U[:,1]))"
   ]
  },
  {
   "cell_type": "markdown",
   "metadata": {},
   "source": [
    "We can demonstrate how the eigenvectors allow us to express the original data on the new 'axes' or basis that the eigenvectors provide.  Let's (matrix) multiply the eigenvectors and the original centered (zero mean) data -- this will project the original data into the space of the eigenvectors.   This essentially makes the eigenvectors the new axes for the data space"
   ]
  },
  {
   "cell_type": "code",
   "execution_count": 20,
   "metadata": {},
   "outputs": [
    {
     "data": {
      "text/plain": [
       "Text(0, 0.5, 'SECOND EIGENMODE')"
      ]
     },
     "execution_count": 20,
     "metadata": {},
     "output_type": "execute_result"
    },
    {
     "data": {
      "image/png": "[encoded data removed]",
      "text/plain": [
       "<Figure size 640x480 with 1 Axes>"
      ]
     },
     "metadata": {},
     "output_type": "display_data"
    }
   ],
   "source": [
    "rot = U @ sepal_array.T\n",
    "\n",
    "plt.figure()\n",
    "ax = plt.axes()\n",
    "ax.scatter(rot[0,:],rot[1,:],color='black')\n",
    "ax.set_xlim(-1,1)\n",
    "ax.set_ylim(-1,1)\n",
    "ax.plot([-1,1],[0,0], color=\"red\")\n",
    "ax.scatter(rot[0,:],np.zeros(rot[0,:].shape),color='red',marker='o',facecolors='none')\n",
    "ax.plot([0,0],[-1,1], color=\"blue\")\n",
    "ax.scatter(np.zeros(rot[1,:].shape),rot[1,:],color='blue',marker='o',facecolors='none')\n",
    "\n",
    "ax.set_xlabel('FIRST EIGENMODE')\n",
    "ax.set_ylabel('SECOND EIGENMODE')\n",
    "\n"
   ]
  }
 ],
 "metadata": {
  "kernelspec": {
   "display_name": "base",
   "language": "python",
   "name": "python3"
  },
  "language_info": {
   "codemirror_mode": {
    "name": "ipython",
    "version": 3
   },
   "file_extension": ".py",
   "mimetype": "text/x-python",
   "name": "python",
   "nbconvert_exporter": "python",
   "pygments_lexer": "ipython3",
   "version": "3.11.4"
  },
  "orig_nbformat": 4
 },
 "nbformat": 4,
 "nbformat_minor": 2
}
